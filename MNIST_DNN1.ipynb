{
 "cells": [
  {
   "cell_type": "code",
   "execution_count": 1,
   "id": "97fb7ed8-5e90-421f-81df-901883f39b2e",
   "metadata": {},
   "outputs": [],
   "source": [
    "from keras.datasets import fashion_mnist"
   ]
  },
  {
   "cell_type": "code",
   "execution_count": 2,
   "id": "4794efe9-8a12-43cf-b166-8f5d77fefc04",
   "metadata": {},
   "outputs": [],
   "source": [
    "from keras.models import Sequential"
   ]
  },
  {
   "cell_type": "code",
   "execution_count": 3,
   "id": "b1168005-f195-46cd-b072-dc1d1215e01d",
   "metadata": {},
   "outputs": [],
   "source": [
    "from keras.utils import to_categorical"
   ]
  },
  {
   "cell_type": "code",
   "execution_count": 4,
   "id": "23ffba6c-6e74-462f-8232-7ee9c24bf9a4",
   "metadata": {},
   "outputs": [],
   "source": [
    "from keras.layers import Dense, Flatten"
   ]
  },
  {
   "cell_type": "code",
   "execution_count": 5,
   "id": "ff4d7a98-4eb0-4494-9c2e-ebdcef06f980",
   "metadata": {},
   "outputs": [
    {
     "name": "stdout",
     "output_type": "stream",
     "text": [
      "Downloading data from https://storage.googleapis.com/tensorflow/tf-keras-datasets/train-labels-idx1-ubyte.gz\n",
      "\u001b[1m29515/29515\u001b[0m \u001b[32m━━━━━━━━━━━━━━━━━━━━\u001b[0m\u001b[37m\u001b[0m \u001b[1m0s\u001b[0m 5us/step\n",
      "Downloading data from https://storage.googleapis.com/tensorflow/tf-keras-datasets/train-images-idx3-ubyte.gz\n",
      "\u001b[1m26421880/26421880\u001b[0m \u001b[32m━━━━━━━━━━━━━━━━━━━━\u001b[0m\u001b[37m\u001b[0m \u001b[1m9s\u001b[0m 0us/step\n",
      "Downloading data from https://storage.googleapis.com/tensorflow/tf-keras-datasets/t10k-labels-idx1-ubyte.gz\n",
      "\u001b[1m5148/5148\u001b[0m \u001b[32m━━━━━━━━━━━━━━━━━━━━\u001b[0m\u001b[37m\u001b[0m \u001b[1m0s\u001b[0m 0us/step\n",
      "Downloading data from https://storage.googleapis.com/tensorflow/tf-keras-datasets/t10k-images-idx3-ubyte.gz\n",
      "\u001b[1m4422102/4422102\u001b[0m \u001b[32m━━━━━━━━━━━━━━━━━━━━\u001b[0m\u001b[37m\u001b[0m \u001b[1m2s\u001b[0m 0us/step\n"
     ]
    }
   ],
   "source": [
    "(X_train, y_train), (X_test, y_test) = fashion_mnist.load_data()"
   ]
  },
  {
   "cell_type": "code",
   "execution_count": 11,
   "id": "d5fd7e60-4f98-44f5-8e72-0020716d5cb9",
   "metadata": {},
   "outputs": [],
   "source": [
    "X_train = X_train / 255.0"
   ]
  },
  {
   "cell_type": "code",
   "execution_count": 12,
   "id": "b21cd7e1-3e37-48e4-bbb9-c2912c08a03d",
   "metadata": {},
   "outputs": [],
   "source": [
    "X_test = X_test / 255.0"
   ]
  },
  {
   "cell_type": "code",
   "execution_count": 13,
   "id": "31193f5f-ff69-4b53-a074-0dbd0912c595",
   "metadata": {},
   "outputs": [],
   "source": [
    "y_train = to_categorical(y_train, 10)"
   ]
  },
  {
   "cell_type": "code",
   "execution_count": 15,
   "id": "4d7f11a1-cc1f-49f6-9572-ca0be0322c88",
   "metadata": {},
   "outputs": [],
   "source": [
    "y_test = to_categorical(y_test, 10)"
   ]
  },
  {
   "cell_type": "code",
   "execution_count": 16,
   "id": "324ce264-598e-4358-8b99-fd449513a6c8",
   "metadata": {},
   "outputs": [
    {
     "name": "stderr",
     "output_type": "stream",
     "text": [
      "C:\\Python312\\Lib\\site-packages\\keras\\src\\layers\\reshaping\\flatten.py:37: UserWarning: Do not pass an `input_shape`/`input_dim` argument to a layer. When using Sequential models, prefer using an `Input(shape)` object as the first layer in the model instead.\n",
      "  super().__init__(**kwargs)\n"
     ]
    }
   ],
   "source": [
    "model = Sequential([\n",
    "    Flatten(input_shape = (28, 28)),\n",
    "    Dense(128, activation = 'relu'),\n",
    "    Dense(10, activation = 'softmax')\n",
    "])"
   ]
  },
  {
   "cell_type": "code",
   "execution_count": 17,
   "id": "80c4521a-1a9a-4423-a80f-0eac5f511097",
   "metadata": {},
   "outputs": [],
   "source": [
    "model.compile(optimizer = 'adam', loss = 'categorical_crossentropy', metrics = ['accuracy'])"
   ]
  },
  {
   "cell_type": "code",
   "execution_count": 18,
   "id": "a7b1b43e-99e5-48ab-8788-5a1650867189",
   "metadata": {},
   "outputs": [
    {
     "data": {
      "text/plain": [
       "<keras.src.callbacks.history.History at 0x133b14fbe00>"
      ]
     },
     "execution_count": 18,
     "metadata": {},
     "output_type": "execute_result"
    }
   ],
   "source": [
    "model.fit(X_train, y_train, epochs = 5, batch_size = 32, validation_split = 0.1, verbose = 0)"
   ]
  },
  {
   "cell_type": "code",
   "execution_count": 19,
   "id": "5cb316f4-baf6-4e26-9707-99b3a781eb91",
   "metadata": {},
   "outputs": [
    {
     "name": "stdout",
     "output_type": "stream",
     "text": [
      "\u001b[1m313/313\u001b[0m \u001b[32m━━━━━━━━━━━━━━━━━━━━\u001b[0m\u001b[37m\u001b[0m \u001b[1m1s\u001b[0m 3ms/step - accuracy: 0.8768 - loss: 0.3458\n"
     ]
    }
   ],
   "source": [
    "loss, acc = model.evaluate(X_test, y_test)"
   ]
  },
  {
   "cell_type": "code",
   "execution_count": 20,
   "id": "9404c9e2-34de-49f3-9658-f582c700efcc",
   "metadata": {},
   "outputs": [
    {
     "name": "stdout",
     "output_type": "stream",
     "text": [
      "\u001b[1m313/313\u001b[0m \u001b[32m━━━━━━━━━━━━━━━━━━━━\u001b[0m\u001b[37m\u001b[0m \u001b[1m1s\u001b[0m 2ms/step\n"
     ]
    }
   ],
   "source": [
    "y_pred = model.predict(X_test)"
   ]
  },
  {
   "cell_type": "code",
   "execution_count": 21,
   "id": "ab3d89cd-cf67-4602-8122-4a5f1ef50724",
   "metadata": {},
   "outputs": [],
   "source": [
    "y_pred_class = y_pred.argmax(axis = 1)"
   ]
  },
  {
   "cell_type": "code",
   "execution_count": 22,
   "id": "b9aa6dc0-d932-42b5-9dd2-3fb1523b1951",
   "metadata": {},
   "outputs": [],
   "source": [
    "y_true_class = y_test.argmax(axis = 1)"
   ]
  },
  {
   "cell_type": "code",
   "execution_count": 23,
   "id": "980743cf-dc80-45be-be5a-59706f47d5f9",
   "metadata": {},
   "outputs": [],
   "source": [
    "classes = ['Dress', 'Coat', 'Jeans', 'Ankle Boot', 'Trouser', 'T-shirt', 'Pant', 'Shirt', 'Pullover', 'Sneaker']"
   ]
  },
  {
   "cell_type": "code",
   "execution_count": 25,
   "id": "d7313981-3a8f-43f0-9b80-420f4bbc3677",
   "metadata": {},
   "outputs": [
    {
     "name": "stdout",
     "output_type": "stream",
     "text": [
      "Actual Fashion Class : Sneaker\tPredicted Fashion Class : Sneaker\n",
      "Actual Fashion Class : Jeans\tPredicted Fashion Class : Jeans\n",
      "Actual Fashion Class : Coat\tPredicted Fashion Class : Coat\n",
      "Actual Fashion Class : Coat\tPredicted Fashion Class : Coat\n",
      "Actual Fashion Class : Pant\tPredicted Fashion Class : Pant\n",
      "Actual Fashion Class : Coat\tPredicted Fashion Class : Coat\n",
      "Actual Fashion Class : Trouser\tPredicted Fashion Class : Trouser\n",
      "Actual Fashion Class : Pant\tPredicted Fashion Class : Pant\n",
      "Actual Fashion Class : T-shirt\tPredicted Fashion Class : T-shirt\n",
      "Actual Fashion Class : Shirt\tPredicted Fashion Class : Shirt\n",
      "Actual Fashion Class : Trouser\tPredicted Fashion Class : Trouser\n",
      "Actual Fashion Class : T-shirt\tPredicted Fashion Class : T-shirt\n",
      "Actual Fashion Class : Shirt\tPredicted Fashion Class : Pullover\n",
      "Actual Fashion Class : Ankle Boot\tPredicted Fashion Class : Ankle Boot\n",
      "Actual Fashion Class : Trouser\tPredicted Fashion Class : Trouser\n"
     ]
    }
   ],
   "source": [
    "for i in range(15) :\n",
    "    print(f\"Actual Fashion Class : {classes[y_true_class[i]]}\\tPredicted Fashion Class : {classes[y_pred_class[i]]}\")"
   ]
  },
  {
   "cell_type": "code",
   "execution_count": 26,
   "id": "e1a387de-76ef-4c08-8ebd-65af5da55a3e",
   "metadata": {},
   "outputs": [
    {
     "data": {
      "text/plain": [
       "array([[0., 0., 0., 0., 0., 0., 0., 0., 0., 1.],\n",
       "       [0., 0., 1., 0., 0., 0., 0., 0., 0., 0.],\n",
       "       [0., 1., 0., 0., 0., 0., 0., 0., 0., 0.],\n",
       "       [0., 1., 0., 0., 0., 0., 0., 0., 0., 0.],\n",
       "       [0., 0., 0., 0., 0., 0., 1., 0., 0., 0.],\n",
       "       [0., 1., 0., 0., 0., 0., 0., 0., 0., 0.],\n",
       "       [0., 0., 0., 0., 1., 0., 0., 0., 0., 0.],\n",
       "       [0., 0., 0., 0., 0., 0., 1., 0., 0., 0.],\n",
       "       [0., 0., 0., 0., 0., 1., 0., 0., 0., 0.],\n",
       "       [0., 0., 0., 0., 0., 0., 0., 1., 0., 0.],\n",
       "       [0., 0., 0., 0., 1., 0., 0., 0., 0., 0.],\n",
       "       [0., 0., 0., 0., 0., 1., 0., 0., 0., 0.],\n",
       "       [0., 0., 0., 0., 0., 0., 0., 1., 0., 0.],\n",
       "       [0., 0., 0., 1., 0., 0., 0., 0., 0., 0.],\n",
       "       [0., 0., 0., 0., 1., 0., 0., 0., 0., 0.],\n",
       "       [0., 1., 0., 0., 0., 0., 0., 0., 0., 0.],\n",
       "       [0., 0., 1., 0., 0., 0., 0., 0., 0., 0.],\n",
       "       [0., 0., 0., 0., 1., 0., 0., 0., 0., 0.],\n",
       "       [0., 0., 0., 0., 0., 0., 0., 0., 1., 0.],\n",
       "       [1., 0., 0., 0., 0., 0., 0., 0., 0., 0.]])"
      ]
     },
     "execution_count": 26,
     "metadata": {},
     "output_type": "execute_result"
    }
   ],
   "source": [
    "y_test[0:20]"
   ]
  },
  {
   "cell_type": "code",
   "execution_count": 28,
   "id": "b96c6a4f-a578-44c5-a865-3c5e90c07f44",
   "metadata": {},
   "outputs": [
    {
     "data": {
      "text/plain": [
       "array([9, 2, 1, 1, 6, 1, 4, 6, 5, 7, 4, 5, 8, 3, 4, 1, 2, 2, 8, 0],\n",
       "      dtype=int64)"
      ]
     },
     "execution_count": 28,
     "metadata": {},
     "output_type": "execute_result"
    }
   ],
   "source": [
    "y_pred_class[0:20]"
   ]
  },
  {
   "cell_type": "code",
   "execution_count": 31,
   "id": "35c9e36a-44bb-477d-8217-35d5b0b6ce1b",
   "metadata": {},
   "outputs": [
    {
     "data": {
      "text/plain": [
       "array([[3.27611770e-06, 5.74576120e-07, 2.65483027e-06, 1.47488663e-05,\n",
       "        3.95466259e-06, 4.01011528e-03, 2.17207580e-05, 3.87552902e-02,\n",
       "        5.41000700e-05, 9.57133591e-01],\n",
       "       [1.33307840e-04, 7.65508212e-10, 9.64414001e-01, 2.89271185e-07,\n",
       "        8.04857910e-03, 1.76459503e-09, 2.74035055e-02, 1.11834101e-11,\n",
       "        2.53129599e-07, 4.13623861e-13],\n",
       "       [1.50984479e-05, 9.99981046e-01, 4.59947946e-09, 3.68970223e-06,\n",
       "        8.93245726e-08, 3.45567623e-13, 3.85281638e-08, 5.48015262e-17,\n",
       "        3.42668685e-08, 5.95875346e-14],\n",
       "       [1.43655425e-05, 9.99679208e-01, 1.06798005e-07, 3.02571862e-04,\n",
       "        2.37399422e-06, 1.71602538e-10, 1.31903664e-06, 1.88905478e-13,\n",
       "        6.06407937e-08, 9.94567623e-11],\n",
       "       [1.23426050e-01, 8.27612439e-06, 2.80873980e-02, 6.02818502e-04,\n",
       "        6.76482357e-03, 2.04090884e-06, 8.40808690e-01, 1.56930241e-06,\n",
       "        2.95996550e-04, 2.32750153e-06],\n",
       "       [1.07836572e-03, 9.98715520e-01, 1.79562471e-06, 1.71558306e-04,\n",
       "        1.48553854e-05, 1.65160899e-10, 1.73952030e-05, 1.49463734e-13,\n",
       "        4.81153791e-07, 2.82718710e-11],\n",
       "       [4.66321108e-05, 2.72405287e-05, 5.87067707e-03, 8.72908277e-05,\n",
       "        9.87793267e-01, 1.89591148e-07, 6.15957240e-03, 7.76673037e-09,\n",
       "        1.51493687e-05, 1.29462610e-08],\n",
       "       [2.05548877e-05, 6.28420267e-08, 4.45600832e-03, 1.83516786e-05,\n",
       "        2.68979371e-02, 1.63912674e-07, 9.68602955e-01, 1.79107744e-07,\n",
       "        3.89672959e-06, 3.43192408e-09],\n",
       "       [1.63436111e-04, 2.98989266e-06, 4.19321696e-05, 1.28122895e-06,\n",
       "        1.49593770e-05, 9.98722851e-01, 2.91740707e-05, 8.08803015e-04,\n",
       "        2.13209816e-04, 1.35569258e-06],\n",
       "       [1.43800025e-06, 1.04504494e-07, 1.40165042e-07, 5.83727433e-06,\n",
       "        3.79908755e-07, 8.43469868e-04, 3.84763638e-07, 9.98421907e-01,\n",
       "        1.45373313e-04, 5.81040862e-04],\n",
       "       [3.92658330e-05, 2.90859225e-05, 1.02559537e-01, 2.00100408e-06,\n",
       "        8.69623303e-01, 1.20554932e-06, 2.77387835e-02, 5.65777647e-08,\n",
       "        6.75458114e-06, 3.22957519e-08],\n",
       "       [9.01137719e-06, 3.16607361e-06, 2.22473791e-05, 3.57740259e-06,\n",
       "        1.43859274e-04, 9.93593752e-01, 8.87833594e-05, 3.95725900e-03,\n",
       "        5.41234695e-05, 2.12421641e-03],\n",
       "       [1.76811591e-05, 3.68677638e-06, 9.17928628e-06, 5.44500035e-05,\n",
       "        1.19092285e-04, 1.03567494e-02, 3.54738086e-06, 2.20840096e-01,\n",
       "        7.68593609e-01, 1.87806393e-06],\n",
       "       [2.55111442e-03, 1.53778598e-03, 4.25478320e-05, 9.94865954e-01,\n",
       "        5.03086994e-05, 1.03760385e-05, 7.93289277e-04, 1.23457335e-06,\n",
       "        1.37074690e-04, 1.04509181e-05],\n",
       "       [1.90317878e-04, 1.63498373e-06, 1.03201449e-01, 2.00024399e-04,\n",
       "        7.73683667e-01, 7.14285742e-09, 1.21886820e-01, 3.29971321e-08,\n",
       "        8.36007879e-04, 3.83622356e-10],\n",
       "       [2.77917250e-04, 9.96257663e-01, 3.71584883e-06, 3.23287444e-03,\n",
       "        1.89809085e-04, 1.91878051e-08, 3.24555986e-05, 3.29157708e-11,\n",
       "        5.55381212e-06, 1.13409806e-08],\n",
       "       [5.81057603e-03, 4.87777143e-05, 9.50425863e-01, 3.31829069e-05,\n",
       "        1.10992715e-02, 2.06282138e-07, 3.25627476e-02, 3.41634205e-07,\n",
       "        1.88791619e-05, 6.25352783e-08],\n",
       "       [1.24558131e-03, 5.08029234e-06, 7.42140353e-01, 1.06739499e-05,\n",
       "        1.92757964e-01, 2.34768982e-09, 6.36778101e-02, 6.57054784e-07,\n",
       "        1.61843142e-04, 3.80568110e-08],\n",
       "       [3.72514296e-05, 1.98011989e-08, 6.50340444e-05, 1.37864873e-07,\n",
       "        6.03102080e-06, 1.99625341e-04, 2.45835545e-04, 6.62150660e-06,\n",
       "        9.99437988e-01, 1.39338636e-06],\n",
       "       [9.74776506e-01, 1.34140589e-06, 6.37174981e-06, 1.19663146e-03,\n",
       "        2.14700037e-07, 2.48727618e-11, 2.40182355e-02, 2.41867696e-15,\n",
       "        7.34569255e-07, 1.12392897e-12]], dtype=float32)"
      ]
     },
     "execution_count": 31,
     "metadata": {},
     "output_type": "execute_result"
    }
   ],
   "source": [
    "y_pred[0 : 20]"
   ]
  },
  {
   "cell_type": "code",
   "execution_count": null,
   "id": "a7dd9480-4f48-4b10-acc3-f2ac740c23d4",
   "metadata": {},
   "outputs": [],
   "source": []
  }
 ],
 "metadata": {
  "kernelspec": {
   "display_name": "Python 3 (ipykernel)",
   "language": "python",
   "name": "python3"
  },
  "language_info": {
   "codemirror_mode": {
    "name": "ipython",
    "version": 3
   },
   "file_extension": ".py",
   "mimetype": "text/x-python",
   "name": "python",
   "nbconvert_exporter": "python",
   "pygments_lexer": "ipython3",
   "version": "3.12.1"
  }
 },
 "nbformat": 4,
 "nbformat_minor": 5
}
