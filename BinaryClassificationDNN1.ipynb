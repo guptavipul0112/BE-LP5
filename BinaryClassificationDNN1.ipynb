{
 "cells": [
  {
   "cell_type": "code",
   "execution_count": 1,
   "id": "8130a7b2-c289-44b7-8158-7cc58cc12d32",
   "metadata": {},
   "outputs": [],
   "source": [
    "from keras.datasets import imdb"
   ]
  },
  {
   "cell_type": "code",
   "execution_count": 2,
   "id": "0d518472-c0ca-4957-a3ce-3cbee1b50fdd",
   "metadata": {},
   "outputs": [],
   "source": [
    "from keras.models import Sequential"
   ]
  },
  {
   "cell_type": "code",
   "execution_count": 3,
   "id": "e17996b9-9839-4fa9-90ed-40282d8962cf",
   "metadata": {},
   "outputs": [],
   "source": [
    "from keras.layers import Embedding, Flatten, Dense"
   ]
  },
  {
   "cell_type": "code",
   "execution_count": 5,
   "id": "1499cfa5-cce5-4aba-a7d1-8a3ee2d7c4be",
   "metadata": {},
   "outputs": [
    {
     "name": "stdout",
     "output_type": "stream",
     "text": [
      "Downloading data from https://storage.googleapis.com/tensorflow/tf-keras-datasets/imdb.npz\n",
      "\u001b[1m17464789/17464789\u001b[0m \u001b[32m━━━━━━━━━━━━━━━━━━━━\u001b[0m\u001b[37m\u001b[0m \u001b[1m5s\u001b[0m 0us/step\n"
     ]
    }
   ],
   "source": [
    "(X_train, y_train), (X_test, y_test) = imdb.load_data(num_words = 10000)"
   ]
  },
  {
   "cell_type": "code",
   "execution_count": 6,
   "id": "8e25cfbf-1be5-4845-8756-7c08503550d1",
   "metadata": {},
   "outputs": [],
   "source": [
    "from keras.preprocessing.sequence import pad_sequences"
   ]
  },
  {
   "cell_type": "code",
   "execution_count": 7,
   "id": "8755e035-7af4-4d99-9ed8-f9872edc9c34",
   "metadata": {},
   "outputs": [],
   "source": [
    "X_train = pad_sequences(X_train, maxlen = 200)\n",
    "X_test = pad_sequences(X_test, maxlen = 200)"
   ]
  },
  {
   "cell_type": "code",
   "execution_count": 8,
   "id": "c2d564de-9334-442a-8c31-b53a30f7dabd",
   "metadata": {},
   "outputs": [
    {
     "name": "stderr",
     "output_type": "stream",
     "text": [
      "C:\\Python312\\Lib\\site-packages\\keras\\src\\layers\\core\\embedding.py:90: UserWarning: Argument `input_length` is deprecated. Just remove it.\n",
      "  warnings.warn(\n"
     ]
    }
   ],
   "source": [
    "model = Sequential([\n",
    "    Embedding(input_dim = 10000, output_dim = 16, input_length = 200),\n",
    "    Flatten(),\n",
    "    Dense(16, activation = 'relu'),\n",
    "    Dense(1, activation = 'sigmoid')\n",
    "])"
   ]
  },
  {
   "cell_type": "code",
   "execution_count": 9,
   "id": "ec3f166d-d15c-4e95-ac40-e8eb9463035b",
   "metadata": {},
   "outputs": [],
   "source": [
    "model.compile(optimizer = 'adam', loss = 'binary_crossentropy', metrics = ['accuracy'])"
   ]
  },
  {
   "cell_type": "code",
   "execution_count": 10,
   "id": "6fcd0e91-a76a-4dcf-90b8-5794c5c00226",
   "metadata": {},
   "outputs": [
    {
     "name": "stdout",
     "output_type": "stream",
     "text": [
      "Epoch 1/5\n",
      "\u001b[1m40/40\u001b[0m \u001b[32m━━━━━━━━━━━━━━━━━━━━\u001b[0m\u001b[37m\u001b[0m \u001b[1m3s\u001b[0m 27ms/step - accuracy: 0.5262 - loss: 0.6917 - val_accuracy: 0.6546 - val_loss: 0.6639\n",
      "Epoch 2/5\n",
      "\u001b[1m40/40\u001b[0m \u001b[32m━━━━━━━━━━━━━━━━━━━━\u001b[0m\u001b[37m\u001b[0m \u001b[1m1s\u001b[0m 17ms/step - accuracy: 0.7377 - loss: 0.5943 - val_accuracy: 0.8110 - val_loss: 0.4075\n",
      "Epoch 3/5\n",
      "\u001b[1m40/40\u001b[0m \u001b[32m━━━━━━━━━━━━━━━━━━━━\u001b[0m\u001b[37m\u001b[0m \u001b[1m1s\u001b[0m 17ms/step - accuracy: 0.8777 - loss: 0.3074 - val_accuracy: 0.8742 - val_loss: 0.3101\n",
      "Epoch 4/5\n",
      "\u001b[1m40/40\u001b[0m \u001b[32m━━━━━━━━━━━━━━━━━━━━\u001b[0m\u001b[37m\u001b[0m \u001b[1m1s\u001b[0m 18ms/step - accuracy: 0.9216 - loss: 0.2170 - val_accuracy: 0.8572 - val_loss: 0.3412\n",
      "Epoch 5/5\n",
      "\u001b[1m40/40\u001b[0m \u001b[32m━━━━━━━━━━━━━━━━━━━━\u001b[0m\u001b[37m\u001b[0m \u001b[1m1s\u001b[0m 17ms/step - accuracy: 0.9446 - loss: 0.1662 - val_accuracy: 0.8786 - val_loss: 0.2895\n"
     ]
    },
    {
     "data": {
      "text/plain": [
       "<keras.src.callbacks.history.History at 0x1d57958c1a0>"
      ]
     },
     "execution_count": 10,
     "metadata": {},
     "output_type": "execute_result"
    }
   ],
   "source": [
    "model.fit(X_train, y_train, epochs = 5, batch_size = 512, validation_split = 0.2)"
   ]
  },
  {
   "cell_type": "code",
   "execution_count": 11,
   "id": "378d4f01-2034-4e10-970d-d59611826b76",
   "metadata": {},
   "outputs": [
    {
     "name": "stdout",
     "output_type": "stream",
     "text": [
      "\u001b[1m782/782\u001b[0m \u001b[32m━━━━━━━━━━━━━━━━━━━━\u001b[0m\u001b[37m\u001b[0m \u001b[1m2s\u001b[0m 3ms/step - accuracy: 0.8754 - loss: 0.2978\n"
     ]
    }
   ],
   "source": [
    "loss, acc = model.evaluate(X_test, y_test)"
   ]
  },
  {
   "cell_type": "code",
   "execution_count": 12,
   "id": "8a511ac5-12a4-43ef-938f-a03e691eb4fc",
   "metadata": {},
   "outputs": [
    {
     "name": "stdout",
     "output_type": "stream",
     "text": [
      "\u001b[1m782/782\u001b[0m \u001b[32m━━━━━━━━━━━━━━━━━━━━\u001b[0m\u001b[37m\u001b[0m \u001b[1m2s\u001b[0m 2ms/step\n"
     ]
    }
   ],
   "source": [
    "y_pred_prob = model.predict(X_test)"
   ]
  },
  {
   "cell_type": "code",
   "execution_count": 13,
   "id": "2afd654e-2eda-46e0-900d-e1f4bbfa079b",
   "metadata": {},
   "outputs": [
    {
     "data": {
      "text/plain": [
       "array([[0.2096896 ],\n",
       "       [0.9953573 ],\n",
       "       [0.6191852 ],\n",
       "       [0.25800997],\n",
       "       [0.9909317 ]], dtype=float32)"
      ]
     },
     "execution_count": 13,
     "metadata": {},
     "output_type": "execute_result"
    }
   ],
   "source": [
    "y_pred_prob[0:5]"
   ]
  },
  {
   "cell_type": "code",
   "execution_count": 14,
   "id": "9b6523fa-6080-4ee9-9d48-b8c06d7e619d",
   "metadata": {},
   "outputs": [],
   "source": [
    "y_pred_class = (y_pred_prob > 0.5).astype('int')"
   ]
  },
  {
   "cell_type": "code",
   "execution_count": 17,
   "id": "0db2bbba-70de-428c-b942-1a692768c24f",
   "metadata": {},
   "outputs": [
    {
     "name": "stdout",
     "output_type": "stream",
     "text": [
      "Actual : 0 Predicted : 0\n",
      "Actual : 1 Predicted : 1\n",
      "Actual : 1 Predicted : 1\n",
      "Actual : 0 Predicted : 0\n",
      "Actual : 1 Predicted : 1\n",
      "Actual : 1 Predicted : 1\n",
      "Actual : 1 Predicted : 1\n",
      "Actual : 0 Predicted : 0\n",
      "Actual : 0 Predicted : 1\n",
      "Actual : 1 Predicted : 1\n"
     ]
    }
   ],
   "source": [
    "for i in range(10) :\n",
    "    print(f\"Actual : {y_test[i]} Predicted : {y_pred_class[i][0]}\")"
   ]
  },
  {
   "cell_type": "code",
   "execution_count": null,
   "id": "a1c02b06-16b9-4b97-8ce0-6f63c2454186",
   "metadata": {},
   "outputs": [],
   "source": []
  }
 ],
 "metadata": {
  "kernelspec": {
   "display_name": "Python 3 (ipykernel)",
   "language": "python",
   "name": "python3"
  },
  "language_info": {
   "codemirror_mode": {
    "name": "ipython",
    "version": 3
   },
   "file_extension": ".py",
   "mimetype": "text/x-python",
   "name": "python",
   "nbconvert_exporter": "python",
   "pygments_lexer": "ipython3",
   "version": "3.12.1"
  }
 },
 "nbformat": 4,
 "nbformat_minor": 5
}
