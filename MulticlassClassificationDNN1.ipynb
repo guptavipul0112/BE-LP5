{
 "cells": [
  {
   "cell_type": "code",
   "execution_count": 1,
   "id": "17b4f9e8-dfdd-4db8-aca0-a5437ecef6d2",
   "metadata": {},
   "outputs": [],
   "source": [
    "import pandas as pd"
   ]
  },
  {
   "cell_type": "code",
   "execution_count": 7,
   "id": "71fa2de2-827c-47b9-a2d2-64aa932a2f3a",
   "metadata": {},
   "outputs": [],
   "source": [
    "from keras.models import Sequential"
   ]
  },
  {
   "cell_type": "code",
   "execution_count": 8,
   "id": "c47c3a7f-7a46-48a8-be21-abd9d8ac29d6",
   "metadata": {},
   "outputs": [],
   "source": [
    "from keras.layers import Dense"
   ]
  },
  {
   "cell_type": "code",
   "execution_count": 9,
   "id": "8609d2b0-e069-4cf5-9efb-9a87e6845e1a",
   "metadata": {},
   "outputs": [],
   "source": [
    "from keras.utils import to_categorical"
   ]
  },
  {
   "cell_type": "code",
   "execution_count": 10,
   "id": "529d0e9c-af3c-4b4a-a625-bc5c0a517823",
   "metadata": {},
   "outputs": [],
   "source": [
    "from sklearn.model_selection import train_test_split"
   ]
  },
  {
   "cell_type": "code",
   "execution_count": 13,
   "id": "e67d8bc4-78a2-45f4-a46f-350184258863",
   "metadata": {},
   "outputs": [],
   "source": [
    "from sklearn.preprocessing import LabelEncoder"
   ]
  },
  {
   "cell_type": "markdown",
   "id": "2181d482-f7cf-4144-97b2-02c06909f44c",
   "metadata": {},
   "source": [
    "Load and prepare data"
   ]
  },
  {
   "cell_type": "code",
   "execution_count": 23,
   "id": "3665837e-624a-49db-ad19-7ac8ec7d273b",
   "metadata": {},
   "outputs": [],
   "source": [
    "data = pd.read_csv('letter-recognition.data', header = None)"
   ]
  },
  {
   "cell_type": "code",
   "execution_count": 24,
   "id": "46ef9111-1828-434a-91b9-eec076e23525",
   "metadata": {},
   "outputs": [],
   "source": [
    "X = data.iloc[:, 1:].values"
   ]
  },
  {
   "cell_type": "code",
   "execution_count": 22,
   "id": "139e41cf-184f-49a5-bcfd-e771b09bf1c6",
   "metadata": {},
   "outputs": [],
   "source": [
    "y = data.iloc[:, 0].values"
   ]
  },
  {
   "cell_type": "markdown",
   "id": "92e21746-f576-4138-bdcc-77306429f0d0",
   "metadata": {},
   "source": [
    "Encode Labels and One Hot Encode"
   ]
  },
  {
   "cell_type": "code",
   "execution_count": 25,
   "id": "ba66d0a0-089b-4962-83e8-4f9bd12e7d5a",
   "metadata": {},
   "outputs": [],
   "source": [
    "label_encoder = LabelEncoder()"
   ]
  },
  {
   "cell_type": "code",
   "execution_count": 26,
   "id": "34bd0247-f20f-4593-a6fd-06f481868fe5",
   "metadata": {},
   "outputs": [],
   "source": [
    "y_encoded = label_encoder.fit_transform(y)"
   ]
  },
  {
   "cell_type": "code",
   "execution_count": 27,
   "id": "915588d6-a446-4798-9e1f-104ab1339c7d",
   "metadata": {},
   "outputs": [],
   "source": [
    "y_categorical = to_categorical(y_encoded)"
   ]
  },
  {
   "cell_type": "markdown",
   "id": "282e6c78-cd2b-4a6b-b195-54fe754f4623",
   "metadata": {},
   "source": [
    "Train Test Split"
   ]
  },
  {
   "cell_type": "code",
   "execution_count": 28,
   "id": "eb577e53-3477-4dc5-afc4-137a443891a5",
   "metadata": {},
   "outputs": [],
   "source": [
    "X_train, X_test, y_train, y_test = train_test_split(X, y_categorical, test_size = 0.2, random_state = 42)"
   ]
  },
  {
   "cell_type": "markdown",
   "id": "0a0b2bc7-e3b9-4ce7-b2f9-18191087ca12",
   "metadata": {},
   "source": [
    "Build the model"
   ]
  },
  {
   "cell_type": "code",
   "execution_count": 32,
   "id": "bc351f0f-7545-4bab-8f96-e8098f994f2c",
   "metadata": {},
   "outputs": [],
   "source": [
    "model = Sequential([\n",
    "    Dense(64, input_shape = (16,), activation = 'relu'),\n",
    "    Dense(64, activation = 'relu'),\n",
    "    Dense(26, activation = 'softmax')\n",
    "])"
   ]
  },
  {
   "cell_type": "code",
   "execution_count": 33,
   "id": "67c66717-3cb9-4b9f-aa5f-f79a8113a913",
   "metadata": {},
   "outputs": [],
   "source": [
    "model.compile(optimizer = 'adam', loss = 'categorical_crossentropy', metrics = ['accuracy'])"
   ]
  },
  {
   "cell_type": "code",
   "execution_count": 36,
   "id": "b3b0d62e-8bd1-4c50-b23c-954aba0f2da5",
   "metadata": {},
   "outputs": [
    {
     "name": "stdout",
     "output_type": "stream",
     "text": [
      "Epoch 1/5\n",
      "\u001b[1m450/450\u001b[0m \u001b[32m━━━━━━━━━━━━━━━━━━━━\u001b[0m\u001b[37m\u001b[0m \u001b[1m1s\u001b[0m 3ms/step - accuracy: 0.9335 - loss: 0.1981 - val_accuracy: 0.9275 - val_loss: 0.2166\n",
      "Epoch 2/5\n",
      "\u001b[1m450/450\u001b[0m \u001b[32m━━━━━━━━━━━━━━━━━━━━\u001b[0m\u001b[37m\u001b[0m \u001b[1m1s\u001b[0m 3ms/step - accuracy: 0.9429 - loss: 0.1805 - val_accuracy: 0.9294 - val_loss: 0.2464\n",
      "Epoch 3/5\n",
      "\u001b[1m450/450\u001b[0m \u001b[32m━━━━━━━━━━━━━━━━━━━━\u001b[0m\u001b[37m\u001b[0m \u001b[1m1s\u001b[0m 3ms/step - accuracy: 0.9372 - loss: 0.1830 - val_accuracy: 0.9231 - val_loss: 0.2445\n",
      "Epoch 4/5\n",
      "\u001b[1m450/450\u001b[0m \u001b[32m━━━━━━━━━━━━━━━━━━━━\u001b[0m\u001b[37m\u001b[0m \u001b[1m1s\u001b[0m 3ms/step - accuracy: 0.9416 - loss: 0.1798 - val_accuracy: 0.9256 - val_loss: 0.2476\n",
      "Epoch 5/5\n",
      "\u001b[1m450/450\u001b[0m \u001b[32m━━━━━━━━━━━━━━━━━━━━\u001b[0m\u001b[37m\u001b[0m \u001b[1m1s\u001b[0m 3ms/step - accuracy: 0.9455 - loss: 0.1668 - val_accuracy: 0.9231 - val_loss: 0.2420\n"
     ]
    },
    {
     "data": {
      "text/plain": [
       "<keras.src.callbacks.history.History at 0x22a2cbf4980>"
      ]
     },
     "execution_count": 36,
     "metadata": {},
     "output_type": "execute_result"
    }
   ],
   "source": [
    "model.fit(X_train, y_train, epochs = 5, batch_size = 32, validation_split = 0.1)"
   ]
  },
  {
   "cell_type": "code",
   "execution_count": 37,
   "id": "946e0cd2-f6cd-49d6-a7d7-0630b43f3aef",
   "metadata": {},
   "outputs": [
    {
     "name": "stdout",
     "output_type": "stream",
     "text": [
      "\u001b[1m125/125\u001b[0m \u001b[32m━━━━━━━━━━━━━━━━━━━━\u001b[0m\u001b[37m\u001b[0m \u001b[1m0s\u001b[0m 3ms/step - accuracy: 0.9230 - loss: 0.2556\n"
     ]
    }
   ],
   "source": [
    "loss, acc = model.evaluate(X_test, y_test)"
   ]
  },
  {
   "cell_type": "code",
   "execution_count": 38,
   "id": "a34b425d-5780-4550-a2a0-883438c8d22e",
   "metadata": {},
   "outputs": [
    {
     "name": "stdout",
     "output_type": "stream",
     "text": [
      "Accuracy :  0.922249972820282\n"
     ]
    }
   ],
   "source": [
    "print(\"Accuracy : \", acc)"
   ]
  },
  {
   "cell_type": "code",
   "execution_count": 39,
   "id": "73eb2ae1-7c8e-430a-b7d8-efa8c8cec597",
   "metadata": {},
   "outputs": [
    {
     "name": "stdout",
     "output_type": "stream",
     "text": [
      "\u001b[1m125/125\u001b[0m \u001b[32m━━━━━━━━━━━━━━━━━━━━\u001b[0m\u001b[37m\u001b[0m \u001b[1m0s\u001b[0m 2ms/step\n"
     ]
    }
   ],
   "source": [
    "y_pred = model.predict(X_test)"
   ]
  },
  {
   "cell_type": "code",
   "execution_count": 41,
   "id": "f9f6cdcf-d8f6-4cf9-8df6-904bfd528282",
   "metadata": {},
   "outputs": [],
   "source": [
    "y_pred_labels = y_pred.argmax(axis = 1)"
   ]
  },
  {
   "cell_type": "code",
   "execution_count": null,
   "id": "4240966b-e1cc-4fa4-9d7c-6442e4e1f6a0",
   "metadata": {},
   "outputs": [],
   "source": [
    "y_true_labels = y_test.argmax)ax"
   ]
  }
 ],
 "metadata": {
  "kernelspec": {
   "display_name": "Python 3 (ipykernel)",
   "language": "python",
   "name": "python3"
  },
  "language_info": {
   "codemirror_mode": {
    "name": "ipython",
    "version": 3
   },
   "file_extension": ".py",
   "mimetype": "text/x-python",
   "name": "python",
   "nbconvert_exporter": "python",
   "pygments_lexer": "ipython3",
   "version": "3.12.1"
  }
 },
 "nbformat": 4,
 "nbformat_minor": 5
}
